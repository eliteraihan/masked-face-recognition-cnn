{
 "cells": [
  {
   "cell_type": "code",
   "execution_count": 85,
   "id": "1cd0054b-2be3-4050-9640-8bbd8f907a75",
   "metadata": {
    "execution": {
     "iopub.execute_input": "2021-06-28T05:08:34.291707Z",
     "iopub.status.busy": "2021-06-28T05:08:34.291707Z",
     "iopub.status.idle": "2021-06-28T05:08:34.335707Z",
     "shell.execute_reply": "2021-06-28T05:08:34.334708Z",
     "shell.execute_reply.started": "2021-06-28T05:08:34.291707Z"
    },
    "tags": []
   },
   "outputs": [
    {
     "name": "stderr",
     "output_type": "stream",
     "text": [
      "ic| source: '\"/cygdrive/d/MaskTheFace/datasets/_temp/checkpoints/mobilenetv2_1.00_128-imagenet128-32-12/mobilenetv2_1.00_128-imagenet128-32-12.weights.045_0.9992_0.0037.hdf5\"'\n",
      "ic| destination: ('\"/cygdrive/d/Model testing/weights and '\n",
      "                  'models/mobilenetv2_1.00_128-imagenet128-32-12\"')\n"
     ]
    }
   ],
   "source": [
    "nama_model = \"mobilenetv2_1.00_128-imagenet128-32-12\"\n",
    "epoch_number = \"045_0.9992_0.0037\"\n",
    "\n",
    "file_hdf5 = f\"{nama_model}.weights.{epoch_number}.hdf5\"\n",
    "\n",
    "\n",
    "source_dir = \"/cygdrive/d/MaskTheFace/datasets/_temp/checkpoints\"\n",
    "source = f\"\\\"{source_dir}/{nama_model}/{file_hdf5}\\\"\"\n",
    "\n",
    "dest_dir   = r\"/cygdrive/d/Model testing/weights and models\"\n",
    "destination = f\"\\\"{dest_dir}/{nama_model}\\\"\"\n",
    "\n",
    "ic(source);\n",
    "ic(destination);"
   ]
  },
  {
   "cell_type": "code",
   "execution_count": 86,
   "id": "2226ba5b-a9d0-41b2-913b-a3868236d4aa",
   "metadata": {
    "execution": {
     "iopub.execute_input": "2021-06-28T05:08:34.590724Z",
     "iopub.status.busy": "2021-06-28T05:08:34.589725Z",
     "iopub.status.idle": "2021-06-28T05:08:35.652805Z",
     "shell.execute_reply": "2021-06-28T05:08:35.651806Z",
     "shell.execute_reply.started": "2021-06-28T05:08:34.590724Z"
    },
    "scrolled": true,
    "tags": []
   },
   "outputs": [
    {
     "name": "stdout",
     "output_type": "stream",
     "text": [
      "building file list ... done\n",
      "mobilenetv2_1.00_128-imagenet128-32-12.weights.045_0.9992_0.0037.hdf5\n",
      "\n",
      "         32.77K   0%    0.00kB/s    0:00:00  \n",
      "          9.31M 100%   19.57MB/s    0:00:00 (xfr#1, to-chk=0/1)\n",
      "          9.31M 100%   19.57MB/s    0:00:00 (xfr#1, to-chk=0/1)\n",
      "          9.31M 100%   14.20MB/s    0:00:00 (xfr#1, to-chk=0/1)\n",
      "          9.31M 100%   14.20MB/s    0:00:00 (xfr#1, to-chk=0/1)\n",
      "\n",
      "sent 8.48M bytes  received 35 bytes  5.65M bytes/sec\n",
      "total size is 9.31M  speedup is 1.10\n"
     ]
    }
   ],
   "source": [
    "!rsync -aruvzh --no-inc-recursive --info=progress2 {source} {destination}"
   ]
  }
 ],
 "metadata": {
  "kernelspec": {
   "display_name": "Python 3",
   "language": "python",
   "name": "python3"
  },
  "language_info": {
   "codemirror_mode": {
    "name": "ipython",
    "version": 3
   },
   "file_extension": ".py",
   "mimetype": "text/x-python",
   "name": "python",
   "nbconvert_exporter": "python",
   "pygments_lexer": "ipython3",
   "version": "3.8.3"
  }
 },
 "nbformat": 4,
 "nbformat_minor": 5
}
