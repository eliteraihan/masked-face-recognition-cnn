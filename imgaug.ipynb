{
 "cells": [
  {
   "cell_type": "code",
   "execution_count": 1,
   "metadata": {
    "execution": {
     "iopub.execute_input": "2021-06-04T14:55:08.061728Z",
     "iopub.status.busy": "2021-06-04T14:55:08.061728Z",
     "iopub.status.idle": "2021-06-04T14:55:09.673848Z",
     "shell.execute_reply": "2021-06-04T14:55:09.672847Z",
     "shell.execute_reply.started": "2021-06-04T14:55:08.061728Z"
    },
    "tags": []
   },
   "outputs": [],
   "source": [
    "import numpy as np\n",
    "import matplotlib.pyplot as plt\n",
    "import glob\n",
    "# import pickle\n",
    "import cv2\n",
    "import imageio"
   ]
  },
  {
   "cell_type": "code",
   "execution_count": 2,
   "metadata": {
    "execution": {
     "iopub.execute_input": "2021-06-04T14:55:09.675848Z",
     "iopub.status.busy": "2021-06-04T14:55:09.675848Z",
     "iopub.status.idle": "2021-06-04T14:55:12.332054Z",
     "shell.execute_reply": "2021-06-04T14:55:12.331046Z",
     "shell.execute_reply.started": "2021-06-04T14:55:09.675848Z"
    },
    "tags": []
   },
   "outputs": [],
   "source": [
    "import imgaug as ia\n",
    "from imgaug import augmenters as iaa\n",
    "from imgaug.augmentables.batches import UnnormalizedBatch"
   ]
  },
  {
   "cell_type": "code",
   "execution_count": 3,
   "metadata": {
    "execution": {
     "iopub.execute_input": "2021-06-04T14:55:12.334047Z",
     "iopub.status.busy": "2021-06-04T14:55:12.334047Z",
     "iopub.status.idle": "2021-06-04T14:55:12.347051Z",
     "shell.execute_reply": "2021-06-04T14:55:12.346047Z",
     "shell.execute_reply.started": "2021-06-04T14:55:12.334047Z"
    },
    "tags": []
   },
   "outputs": [],
   "source": [
    "import os\n",
    "from datetime import datetime\n",
    "import time\n",
    "from pprint import pprint"
   ]
  },
  {
   "cell_type": "code",
   "execution_count": 4,
   "metadata": {
    "execution": {
     "iopub.execute_input": "2021-06-04T14:55:12.349052Z",
     "iopub.status.busy": "2021-06-04T14:55:12.349052Z",
     "iopub.status.idle": "2021-06-04T14:55:12.507062Z",
     "shell.execute_reply": "2021-06-04T14:55:12.506063Z",
     "shell.execute_reply.started": "2021-06-04T14:55:12.349052Z"
    },
    "tags": []
   },
   "outputs": [],
   "source": [
    "plt.ioff()  # interactive mode off\n",
    "# plt.ion()  # interactive mode on\n",
    "\n",
    "# %pylab inline\n",
    "\n",
    "np.random.seed(1728)\n",
    "ia.random.seed(1728)"
   ]
  },
  {
   "cell_type": "code",
   "execution_count": null,
   "metadata": {},
   "outputs": [],
   "source": []
  },
  {
   "cell_type": "code",
   "execution_count": null,
   "metadata": {},
   "outputs": [],
   "source": [
    "# save\n",
    "# %store batches_aug_pool"
   ]
  },
  {
   "cell_type": "code",
   "execution_count": null,
   "metadata": {
    "tags": []
   },
   "outputs": [],
   "source": [
    "# load\n",
    "# %store -r batches_aug_pool"
   ]
  },
  {
   "cell_type": "code",
   "execution_count": null,
   "metadata": {},
   "outputs": [],
   "source": [
    "# delete\n",
    "# %store -d batches_aug_pool"
   ]
  },
  {
   "cell_type": "code",
   "execution_count": null,
   "metadata": {},
   "outputs": [],
   "source": []
  },
  {
   "cell_type": "code",
   "execution_count": 5,
   "metadata": {
    "execution": {
     "iopub.execute_input": "2021-06-04T14:55:12.509060Z",
     "iopub.status.busy": "2021-06-04T14:55:12.508060Z",
     "iopub.status.idle": "2021-06-04T14:55:12.539064Z",
     "shell.execute_reply": "2021-06-04T14:55:12.538062Z",
     "shell.execute_reply.started": "2021-06-04T14:55:12.509060Z"
    },
    "tags": []
   },
   "outputs": [],
   "source": [
    "DATASET_DIR = 'D:/MaskTheFace/datasets'\n",
    "DATASET = os.path.join(DATASET_DIR, '')"
   ]
  },
  {
   "cell_type": "code",
   "execution_count": 6,
   "metadata": {
    "execution": {
     "iopub.execute_input": "2021-06-04T14:55:12.541063Z",
     "iopub.status.busy": "2021-06-04T14:55:12.541063Z",
     "iopub.status.idle": "2021-06-04T14:55:12.730078Z",
     "shell.execute_reply": "2021-06-04T14:55:12.729077Z",
     "shell.execute_reply.started": "2021-06-04T14:55:12.541063Z"
    },
    "scrolled": true,
    "tags": []
   },
   "outputs": [
    {
     "name": "stdout",
     "output_type": "stream",
     "text": [
      "current work dir:\n",
      "D:\\MaskTheFace\\datasets\n",
      "\n",
      "listdir WORK_DIR:\n",
      "['Andhika_101_2021-06-04_2051 01.jpg',\n",
      " 'Andhika_101_2021-06-04_2051 02.jpg',\n",
      " 'Andhika_101_2021-06-04_2051 03.jpg',\n",
      " 'Andhika_101_2021-06-04_2051 04.jpg',\n",
      " 'Andhika_101_2021-06-04_2051 05.jpg',\n",
      " 'Andhika_101_2021-06-04_2051 06.jpg',\n",
      " 'Andhika_101_2021-06-04_2051 07.jpg',\n",
      " 'Andhika_101_2021-06-04_2051 08.jpg',\n",
      " 'Andhika_101_2021-06-04_2051 09.jpg',\n",
      " 'Andhika_101_2021-06-04_2051 10.jpg',\n",
      " 'Andhika_101_2021-06-04_2051 11.jpg',\n",
      " 'Andhika_101_2021-06-04_2051 12.jpg',\n",
      " 'Andhika_101_2021-06-04_2051 13.jpg',\n",
      " 'Andhika_101_2021-06-04_2051 14.jpg',\n",
      " 'Andhika_101_2021-06-04_2051 15.jpg',\n",
      " 'Andhika_101_2021-06-04_2051 16.jpg',\n",
      " 'Andhika_101_2021-06-04_2051 17.jpg',\n",
      " 'Andhika_101_2021-06-04_2051 18.jpg',\n",
      " 'Andhika_101_2021-06-04_2051 19.jpg',\n",
      " 'Andhika_101_2021-06-04_2051 20.jpg',\n",
      " 'Andhika_101_2021-06-04_2051 21.jpg',\n",
      " 'Andhika_101_2021-06-04_2051 22.jpg',\n",
      " 'Andhika_101_2021-06-04_2051 23.jpg',\n",
      " 'Andhika_101_2021-06-04_2051 24.jpg',\n",
      " 'Andhika_101_2021-06-04_2051 25.jpg',\n",
      " 'Andhika_101_2021-06-04_2103 01.jpg',\n",
      " 'Andhika_101_2021-06-04_2103 02.jpg',\n",
      " 'Andhika_101_2021-06-04_2103 03.jpg',\n",
      " 'Andhika_101_2021-06-04_2103 04.jpg',\n",
      " 'Andhika_101_2021-06-04_2103 05.jpg',\n",
      " 'Andhika_101_2021-06-04_2103 06.jpg',\n",
      " 'Andhika_101_2021-06-04_2103 07.jpg',\n",
      " 'Andhika_101_2021-06-04_2103 08.jpg',\n",
      " 'Andhika_101_2021-06-04_2103 09.jpg',\n",
      " 'Andhika_101_2021-06-04_2103 10.jpg',\n",
      " 'Andhika_101_2021-06-04_2103 11.jpg',\n",
      " 'Andhika_101_2021-06-04_2103 12.jpg',\n",
      " 'Andhika_101_2021-06-04_2103 13.jpg',\n",
      " 'Andhika_101_2021-06-04_2103 14.jpg',\n",
      " 'Andhika_101_2021-06-04_2103 15.jpg',\n",
      " 'Andhika_101_2021-06-04_2103 16.jpg',\n",
      " 'Andhika_101_2021-06-04_2103 17.jpg',\n",
      " 'Andhika_101_2021-06-04_2103 18.jpg',\n",
      " 'Andhika_101_2021-06-04_2103 19.jpg',\n",
      " 'Andhika_101_2021-06-04_2103 20.jpg',\n",
      " 'Andhika_101_2021-06-04_2103 21.jpg',\n",
      " 'Andhika_101_2021-06-04_2103 22.jpg',\n",
      " 'Andhika_101_2021-06-04_2103 23.jpg',\n",
      " 'Andhika_101_2021-06-04_2103 24.jpg',\n",
      " 'Andhika_101_2021-06-04_2103 25.jpg',\n",
      " 'Andhika_101_2021-06-04_2103 26.jpg',\n",
      " 'Andhika_101_2021-06-04_2103 27.jpg',\n",
      " 'Andhika_101_2021-06-04_2103 28.jpg',\n",
      " 'Andhika_101_2021-06-04_2103 29.jpg',\n",
      " 'Andhika_101_2021-06-04_2103 30.jpg',\n",
      " 'Andhika_101_2021-06-04_2103 31.jpg',\n",
      " 'Andhika_101_2021-06-04_2103 32.jpg',\n",
      " 'Andhika_101_2021-06-04_2103 33.jpg',\n",
      " 'Andhika_101_2021-06-04_2103 34.jpg',\n",
      " 'Andhika_101_2021-06-04_2103 35.jpg',\n",
      " 'Ardiyan_101_2021-06-04_2104 01.jpg',\n",
      " 'Ardiyan_101_2021-06-04_2104 02.jpg',\n",
      " 'Ardiyan_101_2021-06-04_2104 03.jpg',\n",
      " 'Ardiyan_101_2021-06-04_2104 04.jpg',\n",
      " 'Ardiyan_101_2021-06-04_2104 05.jpg',\n",
      " 'Ardiyan_101_2021-06-04_2104 06.jpg',\n",
      " 'Ardiyan_101_2021-06-04_2104 07.jpg',\n",
      " 'Ardiyan_101_2021-06-04_2104 08.jpg',\n",
      " 'Ardiyan_101_2021-06-04_2104 09.jpg',\n",
      " 'Ardiyan_101_2021-06-04_2104 10.jpg',\n",
      " 'Ardiyan_101_2021-06-04_2104 11.jpg',\n",
      " 'Ardiyan_101_2021-06-04_2104 12.jpg',\n",
      " 'Ardiyan_101_2021-06-04_2104 13.jpg',\n",
      " 'Ardiyan_101_2021-06-04_2104 14.jpg',\n",
      " 'Ardiyan_101_2021-06-04_2104 15.jpg',\n",
      " 'Ardiyan_101_2021-06-04_2104 16.jpg',\n",
      " 'Ardiyan_101_2021-06-04_2104 17.jpg',\n",
      " 'Ardiyan_101_2021-06-04_2104 18.jpg',\n",
      " 'Ardiyan_101_2021-06-04_2104 19.jpg',\n",
      " 'Ardiyan_101_2021-06-04_2104 20.jpg',\n",
      " 'Ardiyan_101_2021-06-04_2104 21.jpg',\n",
      " 'Ardiyan_101_2021-06-04_2104 22.jpg',\n",
      " 'Ardiyan_101_2021-06-04_2104 23.jpg',\n",
      " 'Ardiyan_101_2021-06-04_2104 24.jpg',\n",
      " 'Ardiyan_101_2021-06-04_2104 25.jpg',\n",
      " 'Ardiyan_101_2021-06-04_2104 26.jpg',\n",
      " 'Ardiyan_101_2021-06-04_2104 27.jpg',\n",
      " 'Ardiyan_101_2021-06-04_2104 28.jpg',\n",
      " 'Ardiyan_101_2021-06-04_2104 29.jpg',\n",
      " 'Ardiyan_101_2021-06-04_2104 30.jpg',\n",
      " 'Ardiyan_101_2021-06-04_2104 31.jpg',\n",
      " 'Ardiyan_101_2021-06-04_2104 32.jpg',\n",
      " 'Ardiyan_101_2021-06-04_2104 33.jpg',\n",
      " 'Ardiyan_101_2021-06-04_2104 34.jpg',\n",
      " 'Ardiyan_101_2021-06-04_2104 35.jpg',\n",
      " 'Artik_101_2021-06-04_2106 01.jpg',\n",
      " 'Artik_101_2021-06-04_2106 02.jpg',\n",
      " 'Artik_101_2021-06-04_2106 03.jpg',\n",
      " 'Artik_101_2021-06-04_2106 04.jpg',\n",
      " 'Artik_101_2021-06-04_2106 05.jpg',\n",
      " 'Artik_101_2021-06-04_2106 06.jpg',\n",
      " 'Artik_101_2021-06-04_2106 07.jpg',\n",
      " 'Artik_101_2021-06-04_2106 08.jpg',\n",
      " 'Artik_101_2021-06-04_2106 09.jpg',\n",
      " 'Artik_101_2021-06-04_2106 10.jpg',\n",
      " 'Artik_101_2021-06-04_2106 11.jpg',\n",
      " 'Artik_101_2021-06-04_2106 12.jpg',\n",
      " 'Artik_101_2021-06-04_2106 13.jpg',\n",
      " 'Artik_101_2021-06-04_2106 14.jpg',\n",
      " 'Artik_101_2021-06-04_2106 15.jpg',\n",
      " 'Artik_101_2021-06-04_2106 16.jpg',\n",
      " 'Artik_101_2021-06-04_2106 17.jpg',\n",
      " 'Artik_101_2021-06-04_2106 18.jpg',\n",
      " 'Artik_101_2021-06-04_2106 19.jpg',\n",
      " 'Artik_101_2021-06-04_2106 20.jpg',\n",
      " 'Artik_101_2021-06-04_2106 21.jpg',\n",
      " 'Artik_101_2021-06-04_2106 22.jpg',\n",
      " 'Artik_101_2021-06-04_2106 23.jpg',\n",
      " 'Artik_101_2021-06-04_2106 24.jpg',\n",
      " 'Artik_101_2021-06-04_2106 25.jpg',\n",
      " 'Artik_101_2021-06-04_2106 26.jpg',\n",
      " 'Artik_101_2021-06-04_2106 27.jpg',\n",
      " 'Artik_101_2021-06-04_2106 28.jpg',\n",
      " 'Artik_101_2021-06-04_2106 29.jpg',\n",
      " 'Artik_101_2021-06-04_2106 30.jpg',\n",
      " 'Artik_101_2021-06-04_2106 31.jpg',\n",
      " 'Artik_101_2021-06-04_2106 32.jpg',\n",
      " 'Artik_101_2021-06-04_2106 33.jpg',\n",
      " 'Artik_101_2021-06-04_2106 34.jpg',\n",
      " 'Artik_101_2021-06-04_2106 35.jpg',\n",
      " 'autorestore - Shortcut.lnk',\n",
      " 'Ballya_101_2021-06-04_2108 01.jpg',\n",
      " 'Ballya_101_2021-06-04_2108 02.jpg',\n",
      " 'Ballya_101_2021-06-04_2108 03.jpg',\n",
      " 'Ballya_101_2021-06-04_2108 04.jpg',\n",
      " 'Ballya_101_2021-06-04_2108 05.jpg',\n",
      " 'Ballya_101_2021-06-04_2108 06.jpg',\n",
      " 'Ballya_101_2021-06-04_2108 07.jpg',\n",
      " 'Ballya_101_2021-06-04_2108 08.jpg',\n",
      " 'Ballya_101_2021-06-04_2108 09.jpg',\n",
      " 'Ballya_101_2021-06-04_2108 10.jpg',\n",
      " 'Ballya_101_2021-06-04_2108 11.jpg',\n",
      " 'Ballya_101_2021-06-04_2108 12.jpg',\n",
      " 'Ballya_101_2021-06-04_2108 13.jpg',\n",
      " 'Ballya_101_2021-06-04_2108 14.jpg',\n",
      " 'Ballya_101_2021-06-04_2108 15.jpg',\n",
      " 'Ballya_101_2021-06-04_2108 16.jpg',\n",
      " 'Ballya_101_2021-06-04_2108 17.jpg',\n",
      " 'Ballya_101_2021-06-04_2108 18.jpg',\n",
      " 'Ballya_101_2021-06-04_2108 19.jpg',\n",
      " 'Ballya_101_2021-06-04_2108 20.jpg',\n",
      " 'Ballya_101_2021-06-04_2108 21.jpg',\n",
      " 'Ballya_101_2021-06-04_2108 22.jpg',\n",
      " 'Ballya_101_2021-06-04_2108 23.jpg',\n",
      " 'Ballya_101_2021-06-04_2108 24.jpg',\n",
      " 'Ballya_101_2021-06-04_2108 25.jpg',\n",
      " 'Ballya_101_2021-06-04_2108 26.jpg',\n",
      " 'Ballya_101_2021-06-04_2108 27.jpg',\n",
      " 'Ballya_101_2021-06-04_2108 28.jpg',\n",
      " 'Ballya_101_2021-06-04_2108 29.jpg',\n",
      " 'Ballya_101_2021-06-04_2108 30.jpg',\n",
      " 'Ballya_101_2021-06-04_2108 31.jpg',\n",
      " 'Ballya_101_2021-06-04_2108 32.jpg',\n",
      " 'Ballya_101_2021-06-04_2108 33.jpg',\n",
      " 'Ballya_101_2021-06-04_2108 34.jpg',\n",
      " 'Ballya_101_2021-06-04_2108 35.jpg',\n",
      " 'Bina_101_2021-06-04_2113 01.jpg',\n",
      " 'Bina_101_2021-06-04_2113 02.jpg',\n",
      " 'Bina_101_2021-06-04_2113 03.jpg',\n",
      " 'Bina_101_2021-06-04_2113 04.jpg',\n",
      " 'Bina_101_2021-06-04_2113 05.jpg',\n",
      " 'Bina_101_2021-06-04_2113 06.jpg',\n",
      " 'Bina_101_2021-06-04_2113 07.jpg',\n",
      " 'Bina_101_2021-06-04_2113 08.jpg',\n",
      " 'Bina_101_2021-06-04_2113 09.jpg',\n",
      " 'Bina_101_2021-06-04_2113 10.jpg',\n",
      " 'Bina_101_2021-06-04_2113 11.jpg',\n",
      " 'Bina_101_2021-06-04_2113 12.jpg',\n",
      " 'Bina_101_2021-06-04_2113 13.jpg',\n",
      " 'Bina_101_2021-06-04_2113 14.jpg',\n",
      " 'Bina_101_2021-06-04_2113 15.jpg',\n",
      " 'Bina_101_2021-06-04_2113 16.jpg',\n",
      " 'Bina_101_2021-06-04_2113 17.jpg',\n",
      " 'Bina_101_2021-06-04_2113 18.jpg',\n",
      " 'Bina_101_2021-06-04_2113 19.jpg',\n",
      " 'Bina_101_2021-06-04_2113 20.jpg',\n",
      " 'Bina_101_2021-06-04_2113 21.jpg',\n",
      " 'Bina_101_2021-06-04_2113 22.jpg',\n",
      " 'Bina_101_2021-06-04_2113 23.jpg',\n",
      " 'Bina_101_2021-06-04_2113 24.jpg',\n",
      " 'Bina_101_2021-06-04_2113 25.jpg',\n",
      " 'Bina_101_2021-06-04_2113 26.jpg',\n",
      " 'Bina_101_2021-06-04_2113 27.jpg',\n",
      " 'Bina_101_2021-06-04_2113 28.jpg',\n",
      " 'Bina_101_2021-06-04_2113 29.jpg',\n",
      " 'Bina_101_2021-06-04_2113 30.jpg',\n",
      " 'Bina_101_2021-06-04_2113 31.jpg',\n",
      " 'Bina_101_2021-06-04_2113 32.jpg',\n",
      " 'Bina_101_2021-06-04_2113 33.jpg',\n",
      " 'Bina_101_2021-06-04_2113 34.jpg',\n",
      " 'Bina_101_2021-06-04_2113 35.jpg',\n",
      " 'Buyung_101_2021-06-04_2114 01.jpg',\n",
      " 'Buyung_101_2021-06-04_2114 02.jpg',\n",
      " 'Buyung_101_2021-06-04_2114 03.jpg',\n",
      " 'Buyung_101_2021-06-04_2114 04.jpg',\n",
      " 'Buyung_101_2021-06-04_2114 05.jpg',\n",
      " 'Buyung_101_2021-06-04_2114 06.jpg',\n",
      " 'Buyung_101_2021-06-04_2114 07.jpg',\n",
      " 'Buyung_101_2021-06-04_2114 08.jpg',\n",
      " 'Buyung_101_2021-06-04_2114 09.jpg',\n",
      " 'Buyung_101_2021-06-04_2114 10.jpg',\n",
      " 'Buyung_101_2021-06-04_2114 11.jpg',\n",
      " 'Buyung_101_2021-06-04_2114 12.jpg',\n",
      " 'Buyung_101_2021-06-04_2114 13.jpg',\n",
      " 'Buyung_101_2021-06-04_2114 14.jpg',\n",
      " 'Buyung_101_2021-06-04_2114 15.jpg',\n",
      " 'Buyung_101_2021-06-04_2114 16.jpg',\n",
      " 'Buyung_101_2021-06-04_2114 17.jpg',\n",
      " 'Buyung_101_2021-06-04_2114 18.jpg',\n",
      " 'Buyung_101_2021-06-04_2114 19.jpg',\n",
      " 'Buyung_101_2021-06-04_2114 20.jpg',\n",
      " 'Buyung_101_2021-06-04_2114 21.jpg',\n",
      " 'Buyung_101_2021-06-04_2114 22.jpg',\n",
      " 'Buyung_101_2021-06-04_2114 23.jpg',\n",
      " 'Buyung_101_2021-06-04_2114 24.jpg',\n",
      " 'Buyung_101_2021-06-04_2114 25.jpg',\n",
      " 'Buyung_101_2021-06-04_2114 26.jpg',\n",
      " 'Buyung_101_2021-06-04_2114 27.jpg',\n",
      " 'Buyung_101_2021-06-04_2114 28.jpg',\n",
      " 'Buyung_101_2021-06-04_2114 29.jpg',\n",
      " 'Buyung_101_2021-06-04_2114 30.jpg',\n",
      " 'Buyung_101_2021-06-04_2114 31.jpg',\n",
      " 'Buyung_101_2021-06-04_2114 32.jpg',\n",
      " 'Buyung_101_2021-06-04_2114 33.jpg',\n",
      " 'Buyung_101_2021-06-04_2114 34.jpg',\n",
      " 'Buyung_101_2021-06-04_2114 35.jpg',\n",
      " 'data 03 - Shortcut.lnk',\n",
      " 'download_links.txt',\n",
      " 'imgaug - basic example.py',\n",
      " 'imgaug.py',\n",
      " 'imgaug.seed.ipynb.zip',\n",
      " 'Kresna_101_2021-06-04_2116 01.jpg',\n",
      " 'Kresna_101_2021-06-04_2116 02.jpg',\n",
      " 'Kresna_101_2021-06-04_2116 03.jpg',\n",
      " 'Kresna_101_2021-06-04_2116 04.jpg',\n",
      " 'Kresna_101_2021-06-04_2116 05.jpg',\n",
      " 'Kresna_101_2021-06-04_2116 06.jpg',\n",
      " 'Kresna_101_2021-06-04_2116 07.jpg',\n",
      " 'Kresna_101_2021-06-04_2116 08.jpg',\n",
      " 'Kresna_101_2021-06-04_2116 09.jpg',\n",
      " 'Kresna_101_2021-06-04_2116 10.jpg',\n",
      " 'Kresna_101_2021-06-04_2116 11.jpg',\n",
      " 'Kresna_101_2021-06-04_2116 12.jpg',\n",
      " 'Kresna_101_2021-06-04_2116 13.jpg',\n",
      " 'Kresna_101_2021-06-04_2116 14.jpg',\n",
      " 'Kresna_101_2021-06-04_2116 15.jpg',\n",
      " 'Kresna_101_2021-06-04_2116 16.jpg',\n",
      " 'Kresna_101_2021-06-04_2116 17.jpg',\n",
      " 'Kresna_101_2021-06-04_2116 18.jpg',\n",
      " 'Kresna_101_2021-06-04_2116 19.jpg',\n",
      " 'Kresna_101_2021-06-04_2116 20.jpg',\n",
      " 'Kresna_101_2021-06-04_2116 21.jpg',\n",
      " 'Kresna_101_2021-06-04_2116 22.jpg',\n",
      " 'Kresna_101_2021-06-04_2116 23.jpg',\n",
      " 'Kresna_101_2021-06-04_2116 24.jpg',\n",
      " 'Kresna_101_2021-06-04_2116 25.jpg',\n",
      " 'Kresna_101_2021-06-04_2116 26.jpg',\n",
      " 'Kresna_101_2021-06-04_2116 27.jpg',\n",
      " 'Kresna_101_2021-06-04_2116 28.jpg',\n",
      " 'Kresna_101_2021-06-04_2116 29.jpg',\n",
      " 'Kresna_101_2021-06-04_2116 30.jpg',\n",
      " 'Kresna_101_2021-06-04_2116 31.jpg',\n",
      " 'Kresna_101_2021-06-04_2116 32.jpg',\n",
      " 'Kresna_101_2021-06-04_2116 33.jpg',\n",
      " 'Kresna_101_2021-06-04_2116 34.jpg',\n",
      " 'Kresna_101_2021-06-04_2116 35.jpg',\n",
      " 'main, train set - resized.zip',\n",
      " 'mfr2.zip',\n",
      " 'Mhartian_101_2021-06-04_2117 01.jpg',\n",
      " 'Mhartian_101_2021-06-04_2117 02.jpg',\n",
      " 'Mhartian_101_2021-06-04_2117 03.jpg',\n",
      " 'Mhartian_101_2021-06-04_2117 04.jpg',\n",
      " 'Mhartian_101_2021-06-04_2117 05.jpg',\n",
      " 'Mhartian_101_2021-06-04_2117 06.jpg',\n",
      " 'Mhartian_101_2021-06-04_2117 07.jpg',\n",
      " 'Mhartian_101_2021-06-04_2117 08.jpg',\n",
      " 'Mhartian_101_2021-06-04_2117 09.jpg',\n",
      " 'Mhartian_101_2021-06-04_2117 10.jpg',\n",
      " 'Mhartian_101_2021-06-04_2117 11.jpg',\n",
      " 'Mhartian_101_2021-06-04_2117 12.jpg',\n",
      " 'Mhartian_101_2021-06-04_2117 13.jpg',\n",
      " 'Mhartian_101_2021-06-04_2117 14.jpg',\n",
      " 'Mhartian_101_2021-06-04_2117 15.jpg',\n",
      " 'Mhartian_101_2021-06-04_2117 16.jpg',\n",
      " 'Mhartian_101_2021-06-04_2117 17.jpg',\n",
      " 'Mhartian_101_2021-06-04_2117 18.jpg',\n",
      " 'Mhartian_101_2021-06-04_2117 19.jpg',\n",
      " 'Mhartian_101_2021-06-04_2117 20.jpg',\n",
      " 'Mhartian_101_2021-06-04_2117 21.jpg',\n",
      " 'Mhartian_101_2021-06-04_2117 22.jpg',\n",
      " 'Mhartian_101_2021-06-04_2117 23.jpg',\n",
      " 'Mhartian_101_2021-06-04_2117 24.jpg',\n",
      " 'Mhartian_101_2021-06-04_2117 25.jpg',\n",
      " 'Mhartian_101_2021-06-04_2117 26.jpg',\n",
      " 'Mhartian_101_2021-06-04_2117 27.jpg',\n",
      " 'Mhartian_101_2021-06-04_2117 28.jpg',\n",
      " 'Mhartian_101_2021-06-04_2117 29.jpg',\n",
      " 'Mhartian_101_2021-06-04_2117 30.jpg',\n",
      " 'Mhartian_101_2021-06-04_2117 31.jpg',\n",
      " 'Mhartian_101_2021-06-04_2117 32.jpg',\n",
      " 'Mhartian_101_2021-06-04_2117 33.jpg',\n",
      " 'Mhartian_101_2021-06-04_2117 34.jpg',\n",
      " 'Mhartian_101_2021-06-04_2117 35.jpg',\n",
      " 'MyNotebooks - Shortcut.lnk',\n",
      " 'Raihan A_101_2021-06-04_2133 01.jpg',\n",
      " 'Raihan A_101_2021-06-04_2133 02.jpg',\n",
      " 'Raihan A_101_2021-06-04_2133 03.jpg',\n",
      " 'Raihan A_101_2021-06-04_2133 04.jpg',\n",
      " 'Raihan A_101_2021-06-04_2133 05.jpg',\n",
      " 'Raihan A_101_2021-06-04_2133 06.jpg',\n",
      " 'Raihan A_101_2021-06-04_2133 07.jpg',\n",
      " 'Raihan A_101_2021-06-04_2133 08.jpg',\n",
      " 'Raihan A_101_2021-06-04_2133 09.jpg',\n",
      " 'Raihan A_101_2021-06-04_2133 10.jpg',\n",
      " 'Raihan A_101_2021-06-04_2133 11.jpg',\n",
      " 'Raihan A_101_2021-06-04_2133 12.jpg',\n",
      " 'Raihan A_101_2021-06-04_2133 13.jpg',\n",
      " 'Raihan A_101_2021-06-04_2133 14.jpg',\n",
      " 'Raihan A_101_2021-06-04_2133 15.jpg',\n",
      " 'Raihan A_101_2021-06-04_2133 16.jpg',\n",
      " 'Raihan A_101_2021-06-04_2133 17.jpg',\n",
      " 'Raihan A_101_2021-06-04_2133 18.jpg',\n",
      " 'Raihan A_101_2021-06-04_2133 19.jpg',\n",
      " 'Raihan A_101_2021-06-04_2133 20.jpg',\n",
      " 'Raihan A_101_2021-06-04_2133 21.jpg',\n",
      " 'Raihan A_101_2021-06-04_2133 22.jpg',\n",
      " 'Raihan A_101_2021-06-04_2133 23.jpg',\n",
      " 'Raihan A_101_2021-06-04_2133 24.jpg',\n",
      " 'Raihan A_101_2021-06-04_2133 25.jpg',\n",
      " 'Raihan A_101_2021-06-04_2133 26.jpg',\n",
      " 'Raihan A_101_2021-06-04_2133 27.jpg',\n",
      " 'Raihan A_101_2021-06-04_2133 28.jpg',\n",
      " 'Raihan A_101_2021-06-04_2133 29.jpg',\n",
      " 'Raihan A_101_2021-06-04_2133 30.jpg',\n",
      " 'Raihan A_101_2021-06-04_2133 31.jpg',\n",
      " 'Raihan A_101_2021-06-04_2133 32.jpg',\n",
      " 'Raihan A_101_2021-06-04_2133 33.jpg',\n",
      " 'Raihan A_101_2021-06-04_2133 34.jpg',\n",
      " 'Raihan A_101_2021-06-04_2133 35.jpg',\n",
      " 'Syifa_101_2021-06-04_2135 01.jpg',\n",
      " 'Syifa_101_2021-06-04_2135 02.jpg',\n",
      " 'Syifa_101_2021-06-04_2135 03.jpg',\n",
      " 'Syifa_101_2021-06-04_2135 04.jpg',\n",
      " 'Syifa_101_2021-06-04_2135 05.jpg',\n",
      " 'Syifa_101_2021-06-04_2135 06.jpg',\n",
      " 'Syifa_101_2021-06-04_2135 07.jpg',\n",
      " 'Syifa_101_2021-06-04_2135 08.jpg',\n",
      " 'Syifa_101_2021-06-04_2135 09.jpg',\n",
      " 'Syifa_101_2021-06-04_2135 10.jpg',\n",
      " 'Syifa_101_2021-06-04_2135 11.jpg',\n",
      " 'Syifa_101_2021-06-04_2135 12.jpg',\n",
      " 'Syifa_101_2021-06-04_2135 13.jpg',\n",
      " 'Syifa_101_2021-06-04_2135 14.jpg',\n",
      " 'Syifa_101_2021-06-04_2135 15.jpg',\n",
      " 'Syifa_101_2021-06-04_2135 16.jpg',\n",
      " 'Syifa_101_2021-06-04_2135 17.jpg',\n",
      " 'Syifa_101_2021-06-04_2135 18.jpg',\n",
      " 'Syifa_101_2021-06-04_2135 19.jpg',\n",
      " 'Syifa_101_2021-06-04_2135 20.jpg',\n",
      " 'Syifa_101_2021-06-04_2135 21.jpg',\n",
      " 'Syifa_101_2021-06-04_2135 22.jpg',\n",
      " 'Syifa_101_2021-06-04_2135 23.jpg',\n",
      " 'Syifa_101_2021-06-04_2135 24.jpg',\n",
      " 'Syifa_101_2021-06-04_2135 25.jpg',\n",
      " 'Syifa_101_2021-06-04_2135 26.jpg',\n",
      " 'Syifa_101_2021-06-04_2135 27.jpg',\n",
      " 'Syifa_101_2021-06-04_2135 28.jpg',\n",
      " 'Syifa_101_2021-06-04_2135 29.jpg',\n",
      " 'Syifa_101_2021-06-04_2135 30.jpg',\n",
      " 'Syifa_101_2021-06-04_2135 31.jpg',\n",
      " 'Syifa_101_2021-06-04_2135 32.jpg',\n",
      " 'Syifa_101_2021-06-04_2135 33.jpg',\n",
      " 'Syifa_101_2021-06-04_2135 34.jpg',\n",
      " 'Syifa_101_2021-06-04_2135 35.jpg',\n",
      " 'Taufik_101_2021-06-04_2136 01.jpg',\n",
      " 'Taufik_101_2021-06-04_2136 02.jpg',\n",
      " 'Taufik_101_2021-06-04_2136 03.jpg',\n",
      " 'Taufik_101_2021-06-04_2136 04.jpg',\n",
      " 'Taufik_101_2021-06-04_2136 05.jpg',\n",
      " 'Taufik_101_2021-06-04_2136 06.jpg',\n",
      " 'Taufik_101_2021-06-04_2136 07.jpg',\n",
      " 'Taufik_101_2021-06-04_2136 08.jpg',\n",
      " 'Taufik_101_2021-06-04_2136 09.jpg',\n",
      " 'Taufik_101_2021-06-04_2136 10.jpg',\n",
      " 'Taufik_101_2021-06-04_2136 11.jpg',\n",
      " 'Taufik_101_2021-06-04_2136 12.jpg',\n",
      " 'Taufik_101_2021-06-04_2136 13.jpg',\n",
      " 'Taufik_101_2021-06-04_2136 14.jpg',\n",
      " 'Taufik_101_2021-06-04_2136 15.jpg',\n",
      " 'Taufik_101_2021-06-04_2136 16.jpg',\n",
      " 'Taufik_101_2021-06-04_2136 17.jpg',\n",
      " 'Taufik_101_2021-06-04_2136 18.jpg',\n",
      " 'Taufik_101_2021-06-04_2136 19.jpg',\n",
      " 'Taufik_101_2021-06-04_2136 20.jpg',\n",
      " 'Taufik_101_2021-06-04_2136 21.jpg',\n",
      " 'Taufik_101_2021-06-04_2136 22.jpg',\n",
      " 'Taufik_101_2021-06-04_2136 23.jpg',\n",
      " 'Taufik_101_2021-06-04_2136 24.jpg',\n",
      " 'Taufik_101_2021-06-04_2136 25.jpg',\n",
      " 'Taufik_101_2021-06-04_2136 26.jpg',\n",
      " 'Taufik_101_2021-06-04_2136 27.jpg',\n",
      " 'Taufik_101_2021-06-04_2136 28.jpg',\n",
      " 'Taufik_101_2021-06-04_2136 29.jpg',\n",
      " 'Taufik_101_2021-06-04_2136 30.jpg',\n",
      " 'Taufik_101_2021-06-04_2136 31.jpg',\n",
      " 'Taufik_101_2021-06-04_2136 32.jpg',\n",
      " 'Taufik_101_2021-06-04_2136 33.jpg',\n",
      " 'Taufik_101_2021-06-04_2136 34.jpg',\n",
      " 'Taufik_101_2021-06-04_2136 35.jpg',\n",
      " 'thumbnails - augmented',\n",
      " 'train set crop_masked',\n",
      " 'train set_crop_masked',\n",
      " 'train set_crop_masked.7z',\n",
      " 'Yandi_101_2021-06-04_2138 01.jpg',\n",
      " 'Yandi_101_2021-06-04_2138 02.jpg',\n",
      " 'Yandi_101_2021-06-04_2138 03.jpg',\n",
      " 'Yandi_101_2021-06-04_2138 04.jpg',\n",
      " 'Yandi_101_2021-06-04_2138 05.jpg',\n",
      " 'Yandi_101_2021-06-04_2138 06.jpg',\n",
      " 'Yandi_101_2021-06-04_2138 07.jpg',\n",
      " 'Yandi_101_2021-06-04_2138 08.jpg',\n",
      " 'Yandi_101_2021-06-04_2138 09.jpg',\n",
      " 'Yandi_101_2021-06-04_2138 10.jpg',\n",
      " 'Yandi_101_2021-06-04_2138 11.jpg',\n",
      " 'Yandi_101_2021-06-04_2138 12.jpg',\n",
      " 'Yandi_101_2021-06-04_2138 13.jpg',\n",
      " 'Yandi_101_2021-06-04_2138 14.jpg',\n",
      " 'Yandi_101_2021-06-04_2138 15.jpg',\n",
      " 'Yandi_101_2021-06-04_2138 16.jpg',\n",
      " 'Yandi_101_2021-06-04_2138 17.jpg',\n",
      " 'Yandi_101_2021-06-04_2138 18.jpg',\n",
      " 'Yandi_101_2021-06-04_2138 19.jpg',\n",
      " 'Yandi_101_2021-06-04_2138 20.jpg',\n",
      " 'Yandi_101_2021-06-04_2138 21.jpg',\n",
      " 'Yandi_101_2021-06-04_2138 22.jpg',\n",
      " 'Yandi_101_2021-06-04_2138 23.jpg',\n",
      " 'Yandi_101_2021-06-04_2138 24.jpg',\n",
      " 'Yandi_101_2021-06-04_2138 25.jpg',\n",
      " 'Yandi_101_2021-06-04_2138 26.jpg',\n",
      " 'Yandi_101_2021-06-04_2138 27.jpg',\n",
      " 'Yandi_101_2021-06-04_2138 28.jpg',\n",
      " 'Yandi_101_2021-06-04_2138 29.jpg',\n",
      " 'Yandi_101_2021-06-04_2138 30.jpg',\n",
      " 'Yandi_101_2021-06-04_2138 31.jpg',\n",
      " 'Yandi_101_2021-06-04_2138 32.jpg',\n",
      " 'Yandi_101_2021-06-04_2138 33.jpg',\n",
      " 'Yandi_101_2021-06-04_2138 34.jpg',\n",
      " 'Yandi_101_2021-06-04_2138 35.jpg',\n",
      " 'Z cropping',\n",
      " '_',\n",
      " '_temp']\n"
     ]
    }
   ],
   "source": [
    "# Set working directory\n",
    "os.chdir(DATASET)\n",
    "\n",
    "print('current work dir:')\n",
    "print(os.getcwd())\n",
    "print()\n",
    "print('listdir WORK_DIR:')\n",
    "pprint(os.listdir('./'))"
   ]
  },
  {
   "cell_type": "code",
   "execution_count": null,
   "metadata": {},
   "outputs": [],
   "source": [
    "# import dill\n",
    "# dill.dump_session('imgaug_env.db')"
   ]
  },
  {
   "cell_type": "code",
   "execution_count": null,
   "metadata": {
    "tags": []
   },
   "outputs": [],
   "source": [
    "# import dill\n",
    "# dill.load_session('imgaug_env.db')"
   ]
  },
  {
   "cell_type": "code",
   "execution_count": null,
   "metadata": {},
   "outputs": [],
   "source": []
  },
  {
   "cell_type": "code",
   "execution_count": 7,
   "metadata": {
    "execution": {
     "iopub.execute_input": "2021-06-04T14:55:12.732081Z",
     "iopub.status.busy": "2021-06-04T14:55:12.732081Z",
     "iopub.status.idle": "2021-06-04T14:55:12.776078Z",
     "shell.execute_reply": "2021-06-04T14:55:12.776078Z",
     "shell.execute_reply.started": "2021-06-04T14:55:12.732081Z"
    },
    "tags": []
   },
   "outputs": [],
   "source": [
    "baseDatasetDirName = 'main, train set - crop resized'\n",
    "\n",
    "def getImages(foldername):\n",
    "    images = []\n",
    "    folderpath = f'{DATASET:s}/_temp/{baseDatasetDirName:s}/{foldername:s}/*.JPG'\n",
    "    for image_file_glob in glob.glob(folderpath):\n",
    "        image = cv2.imread(image_file_glob)[:, :, ::-1]\n",
    "        images.append(image)\n",
    "\n",
    "    return np.array(images)"
   ]
  },
  {
   "cell_type": "code",
   "execution_count": 8,
   "metadata": {
    "execution": {
     "iopub.execute_input": "2021-06-04T14:55:12.779084Z",
     "iopub.status.busy": "2021-06-04T14:55:12.779084Z",
     "iopub.status.idle": "2021-06-04T14:55:12.809082Z",
     "shell.execute_reply": "2021-06-04T14:55:12.808082Z",
     "shell.execute_reply.started": "2021-06-04T14:55:12.779084Z"
    },
    "tags": []
   },
   "outputs": [],
   "source": [
    "def show_images(num_col, images_aug, showfig=True):\n",
    "    num_row = round(len(images_aug)/num_col)\n",
    "    num = len(images_aug)\n",
    "    fig, axes = plt.subplots(num_row, num_col, figsize=(1.5*num_col, 1.65*num_row))\n",
    "\n",
    "    # plot images\n",
    "    for i in range(num_col*num_row):\n",
    "        ax = axes[i//num_col, i%num_col]\n",
    "        ax.axis('off')\n",
    "        try:\n",
    "            ax.imshow(images_aug[i])\n",
    "        except IndexError:\n",
    "            continue\n",
    "    \n",
    "    if showfig:\n",
    "        plt.show(fig)\n",
    "    plt.close(fig)\n",
    "        \n",
    "    return fig"
   ]
  },
  {
   "cell_type": "code",
   "execution_count": 9,
   "metadata": {
    "execution": {
     "iopub.execute_input": "2021-06-04T14:55:12.811087Z",
     "iopub.status.busy": "2021-06-04T14:55:12.811087Z",
     "iopub.status.idle": "2021-06-04T14:55:12.983096Z",
     "shell.execute_reply": "2021-06-04T14:55:12.982098Z",
     "shell.execute_reply.started": "2021-06-04T14:55:12.811087Z"
    },
    "tags": []
   },
   "outputs": [],
   "source": [
    "def batchesPoolToFigures(batches_aug_pool, num_seed, name):\n",
    "    now = datetime.now().strftime(\"%Y-%m-%d_%H%M\") # current date and time\n",
    "    print(\"saving batch thumbnails...\")\n",
    "\n",
    "    time_start = time.time()\n",
    "\n",
    "    i = 1\n",
    "    for batch_aug in batches_aug_pool:\n",
    "        filename = f'{name:s}_{num_seed:d}_{now:s} {i:02d}.jpg'\n",
    "        figure = show_images(num_col=6, images_aug=batch_aug.images_aug, showfig=False)\n",
    "        figure.savefig(filename, dpi=80, bbox_inches='tight', pad_inches=0);\n",
    "        plt.close(figure)\n",
    "        # print(\"figure %d/%d saved\" % (i+1, len(batches_aug_pool),))\n",
    "        i += 1\n",
    "\n",
    "    time_end = time.time()\n",
    "    print(\"savefig done, %d figures in %.2fs\" % (len(batches_aug_pool), time_end - time_start,))\n",
    "    return now"
   ]
  },
  {
   "cell_type": "code",
   "execution_count": 10,
   "metadata": {
    "execution": {
     "iopub.execute_input": "2021-06-04T14:55:13.695149Z",
     "iopub.status.busy": "2021-06-04T14:55:13.695149Z",
     "iopub.status.idle": "2021-06-04T14:55:13.730153Z",
     "shell.execute_reply": "2021-06-04T14:55:13.729156Z",
     "shell.execute_reply.started": "2021-06-04T14:55:13.695149Z"
    },
    "tags": []
   },
   "outputs": [],
   "source": [
    "num_seed = 101\n",
    "\n",
    "sometimes50 = lambda aug: iaa.Sometimes(0.5, aug, seed=num_seed)\n",
    "sometimes70 = lambda aug: iaa.Sometimes(0.7, aug, seed=num_seed)\n",
    "sometimes85 = lambda aug: iaa.Sometimes(0.85, aug, seed=num_seed)\n",
    "sometimes90 = lambda aug: iaa.Sometimes(0.9, aug, seed=num_seed)\n",
    "\n",
    "# Augment Image\n",
    "seq = iaa.Sequential([\n",
    "#     iaa.Fliplr(0.5),\n",
    "#     iaa.Add((-35, 35), per_channel=0.5),\n",
    "#     sometimes(iaa.Affine(rotate=(-5,5)))\n",
    "    sometimes70(iaa.CropAndPad(percent=(0, 0.1365), keep_size=True, pad_mode=ia.ALL, seed=num_seed)),\n",
    "#     iaa.AddToHueAndSaturation((-5, 5)),\n",
    "    sometimes90(iaa.WithHueAndSaturation([\n",
    "        iaa.WithChannels(0, [\n",
    "            iaa.Add((-5, 5), seed=num_seed)\n",
    "        ], seed=num_seed),\n",
    "        iaa.WithChannels(1, [\n",
    "            iaa.Multiply((0.975, 1.025), seed=num_seed),\n",
    "#             iaa.LinearContrast((0.9, 1.1), seed=num_seed))\n",
    "        ], seed=num_seed)\n",
    "    ], seed=num_seed)),\n",
    "    sometimes70(iaa.OneOf([\n",
    "        iaa.GaussianBlur(sigma=(0.0, 2.0), seed=num_seed),\n",
    "        iaa.AverageBlur(k=(2, 5), seed=num_seed),\n",
    "        iaa.BilateralBlur(d=(3, 5), sigma_color=(10, 150), sigma_space=(10, 150), seed=num_seed)\n",
    "    ], seed=num_seed)),\n",
    "    sometimes85(iaa.OneOf([\n",
    "        iaa.GammaContrast((0.5, 2.0), seed=num_seed),\n",
    "        iaa.SigmoidContrast(gain=(3, 10), cutoff=(0.4, 0.6), seed=num_seed),\n",
    "        iaa.LogContrast(gain=(0.6, 1.4), seed=num_seed),\n",
    "        iaa.LinearContrast((0.4, 1.6), seed=num_seed)\n",
    "    ], seed=num_seed))\n",
    "], random_order=True, seed=num_seed)\n",
    "\n",
    "seq_det = seq.to_deterministic()"
   ]
  },
  {
   "cell_type": "code",
   "execution_count": 11,
   "metadata": {
    "execution": {
     "iopub.execute_input": "2021-06-04T13:50:32.829837Z",
     "iopub.status.busy": "2021-06-04T13:50:32.828835Z",
     "iopub.status.idle": "2021-06-04T13:50:32.836833Z",
     "shell.execute_reply": "2021-06-04T13:50:32.835832Z",
     "shell.execute_reply.started": "2021-06-04T13:50:32.829837Z"
    },
    "tags": []
   },
   "outputs": [],
   "source": [
    "# sometimes = lambda aug: iaa.Sometimes(0.5, aug)\n",
    "# seq = iaa.Sequential([\n",
    "#         # apply the following augmenters to most images\n",
    "#         iaa.Fliplr(0.5), # horizontally flip 50% of all images\n",
    "# #         iaa.Flipud(0.2), # vertically flip 20% of all images\n",
    "# #         sometimes(iaa.Affine(\n",
    "# #             scale={\"x\": (0.9, 1.1), \"y\": (0.9, 1.1)}, # scale images to 80-120% of their size, individually per axis\n",
    "# #             translate_percent={\"x\": (-0.1, 0.1), \"y\": (-0.1, 0.1)}, # translate by -20 to +20 percent (per axis)\n",
    "# #             rotate=(-10, 10), # rotate by -45 to +45 degrees\n",
    "# #             shear=(-5, 5), # shear by -16 to +16 degrees\n",
    "# #             order=[0, 1], # use nearest neighbour or bilinear interpolation (fast)\n",
    "# #             cval=(0, 255), # if mode is constant, use a cval between 0 and 255\n",
    "# #             mode=ia.ALL # use any of scikit-image's warping modes (see 2nd image from the top for examples)\n",
    "# #         )),\n",
    "#         # execute 0 to 5 of the following (less important) augmenters per image\n",
    "#         # don't execute all of them, as that would often be way too strong\n",
    "#         iaa.SomeOf((0, 5), [\n",
    "# #             sometimes(iaa.Superpixels(p_replace=(0, 1.0), n_segments=(20, 200))), # convert images into their superpixel representation\n",
    "#             iaa.OneOf([\n",
    "#                 iaa.GaussianBlur((0, 1.0)), # blur images with a sigma between 0 and 3.0\n",
    "#                 iaa.AverageBlur(k=(3, 5)), # blur image using local means with kernel sizes between 2 and 7\n",
    "#                 iaa.MedianBlur(k=(3, 5)), # blur image using local medians with kernel sizes between 2 and 7\n",
    "#             ]),\n",
    "#             iaa.Sharpen(alpha=(0, 1.0), lightness=(0.9, 1.1)), # sharpen images\n",
    "#             iaa.Emboss(alpha=(0, 1.0), strength=(0, 2.0)), # emboss images\n",
    "#             # search either for all edges or for directed edges,\n",
    "#             # blend the result with the original image using a blobby mask\n",
    "#             iaa.BlendAlphaSimplexNoise(iaa.OneOf([\n",
    "#                 iaa.EdgeDetect(alpha=(0.5, 1.0)),\n",
    "#                 iaa.DirectedEdgeDetect(alpha=(0.5, 1.0), direction=(0.0, 1.0)),\n",
    "#             ])),\n",
    "#             iaa.AdditiveGaussianNoise(loc=0, scale=(0.0, 0.01*255), per_channel=0.5), # add gaussian noise to images\n",
    "#             iaa.OneOf([\n",
    "#                 iaa.Dropout((0.01, 0.05), per_channel=0.2), # randomly remove up to 10% of the pixels\n",
    "#                 iaa.CoarseDropout((0.01, 0.03), size_percent=(0.01, 0.02), per_channel=0.2),\n",
    "#             ]),\n",
    "#             iaa.Invert(0.01, per_channel=True), # invert color channels\n",
    "#             iaa.Add((-2, 2), per_channel=0.5), # change brightness of images (by -10 to 10 of original value)\n",
    "# #             iaa.AddToHueAndSaturation((-1, 1)), # change hue and saturation\n",
    "#             # either change the brightness of the whole image (sometimes\n",
    "#             # per channel) or change the brightness of subareas\n",
    "#             iaa.OneOf([\n",
    "#                 iaa.Multiply((0.9, 1.1), per_channel=0.5),\n",
    "#                 iaa.FrequencyNoiseAlpha(\n",
    "#                     exponent=(-1, 0),\n",
    "#                     first=iaa.Multiply((0.9, 1.1), per_channel=True),\n",
    "#                     second=iaa.ContrastNormalization((0.9, 1.1))\n",
    "#                 )\n",
    "#             ]),\n",
    "#             sometimes(iaa.ElasticTransformation(alpha=(0.5, 3.5), sigma=0.25)), # move pixels locally around (with random strengths)\n",
    "#             sometimes(iaa.PiecewiseAffine(scale=(0.01, 0.05))), # sometimes move parts of the image around\n",
    "#             sometimes(iaa.PerspectiveTransform(scale=(0.01, 0.1)))\n",
    "#             ], random_order=True, seed=num_seed)\n",
    "#         ], random_order=True, seed=num_seed)\n",
    "\n",
    "# seq_det = seq.to_deterministic()"
   ]
  },
  {
   "cell_type": "code",
   "execution_count": 29,
   "metadata": {
    "execution": {
     "iopub.execute_input": "2021-06-04T14:10:13.653403Z",
     "iopub.status.busy": "2021-06-04T14:10:13.652402Z",
     "iopub.status.idle": "2021-06-04T14:10:13.660403Z",
     "shell.execute_reply": "2021-06-04T14:10:13.659403Z",
     "shell.execute_reply.started": "2021-06-04T14:10:13.653403Z"
    },
    "tags": []
   },
   "outputs": [],
   "source": [
    "def main(name):\n",
    "    global num_seed\n",
    "    print(f\"processing {name:s} ...\")\n",
    "    \n",
    "    ###\n",
    "    images = getImages(name)\n",
    "    print('%d images Loaded' % len(images))\n",
    "    \n",
    "    ###\n",
    "    NB_BATCHES = 34\n",
    "    batches = [UnnormalizedBatch(images=images) for _ in range(NB_BATCHES)]\n",
    "    \n",
    "    print(f\"Augmenting {NB_BATCHES:d} batches of {name:s} ...\")\n",
    "    ###\n",
    "    time_start = time.time()\n",
    "\n",
    "    with seq.pool(processes=-1, maxtasksperchild=35, seed=num_seed) as pool:\n",
    "        batches_aug_pool = pool.map_batches(batches, chunksize=24)\n",
    "\n",
    "    time_end = time.time()\n",
    "    print(\"%d batches of augmentations done in %.2fs\" % (NB_BATCHES, time_end - time_start,))\n",
    "    \n",
    "    ###\n",
    "    timestamp = batchesPoolToFigures(batches_aug_pool, num_seed, name)\n",
    "    \n",
    "    print(f\"{name:s} processed\")\n",
    "    print()\n",
    "    ###\n",
    "    return timestamp, batches_aug_pool"
   ]
  },
  {
   "cell_type": "code",
   "execution_count": 21,
   "metadata": {
    "execution": {
     "iopub.execute_input": "2021-06-04T15:12:48.153851Z",
     "iopub.status.busy": "2021-06-04T15:12:48.152850Z",
     "iopub.status.idle": "2021-06-04T15:12:48.172850Z",
     "shell.execute_reply": "2021-06-04T15:12:48.171848Z",
     "shell.execute_reply.started": "2021-06-04T15:12:48.153851Z"
    },
    "tags": []
   },
   "outputs": [],
   "source": [
    "names = [\n",
    "    'Andhika', 'Ardiyan', 'Artik', 'Ballya', 'Bina', 'Buyung',\n",
    "    'Kresna', 'Mhartian', 'Raihan A', 'Syifa', 'Taufik', 'Yandi']"
   ]
  },
  {
   "cell_type": "code",
   "execution_count": 26,
   "metadata": {
    "execution": {
     "iopub.execute_input": "2021-06-04T14:02:22.902537Z",
     "iopub.status.busy": "2021-06-04T14:02:22.902537Z",
     "iopub.status.idle": "2021-06-04T14:02:22.916541Z",
     "shell.execute_reply": "2021-06-04T14:02:22.916541Z",
     "shell.execute_reply.started": "2021-06-04T14:02:22.902537Z"
    },
    "tags": []
   },
   "outputs": [],
   "source": [
    "# batches_aug_pool_dict = {}"
   ]
  },
  {
   "cell_type": "code",
   "execution_count": 27,
   "metadata": {
    "execution": {
     "iopub.execute_input": "2021-06-04T14:02:23.388571Z",
     "iopub.status.busy": "2021-06-04T14:02:23.388571Z",
     "iopub.status.idle": "2021-06-04T14:08:53.688741Z",
     "shell.execute_reply": "2021-06-04T14:08:53.687742Z",
     "shell.execute_reply.started": "2021-06-04T14:02:23.388571Z"
    },
    "scrolled": true,
    "tags": []
   },
   "outputs": [
    {
     "name": "stdout",
     "output_type": "stream",
     "text": [
      "processing Andhika ...\n",
      "18 Images Loaded\n",
      "Augmenting 35 batches of Andhika ...\n",
      "35 batches of augmentations done in 50.28s\n",
      "saving batch thumbnails...\n",
      "savefig done, 35 figures in 45.66s\n",
      "Andhika processed\n",
      "processing Ardiyan ...\n",
      "18 Images Loaded\n",
      "Augmenting 35 batches of Ardiyan ...\n",
      "35 batches of augmentations done in 51.88s\n",
      "saving batch thumbnails...\n",
      "savefig done, 35 figures in 44.94s\n",
      "Ardiyan processed\n",
      "processing Artik ...\n",
      "18 Images Loaded\n",
      "Augmenting 35 batches of Artik ...\n",
      "35 batches of augmentations done in 51.00s\n",
      "saving batch thumbnails...\n",
      "savefig done, 35 figures in 48.44s\n",
      "Artik processed\n",
      "processing Ballya ...\n",
      "18 Images Loaded\n",
      "Augmenting 35 batches of Ballya ...\n",
      "35 batches of augmentations done in 52.12s\n",
      "saving batch thumbnails...\n",
      "savefig done, 35 figures in 43.86s\n",
      "Ballya processed\n"
     ]
    }
   ],
   "source": [
    "# for name in names[:4]:\n",
    "#     batches_aug_pool_dict[name] = main(name)"
   ]
  },
  {
   "cell_type": "code",
   "execution_count": 28,
   "metadata": {
    "execution": {
     "iopub.execute_input": "2021-06-04T14:08:53.689735Z",
     "iopub.status.busy": "2021-06-04T14:08:53.689735Z",
     "iopub.status.idle": "2021-06-04T14:10:13.340569Z",
     "shell.execute_reply": "2021-06-04T14:10:13.339571Z",
     "shell.execute_reply.started": "2021-06-04T14:08:53.689735Z"
    },
    "tags": []
   },
   "outputs": [
    {
     "name": "stdout",
     "output_type": "stream",
     "text": [
      "Stored 'batches_aug_pool_dict' (dict)\n"
     ]
    }
   ],
   "source": [
    "# %store batches_aug_pool_dict"
   ]
  },
  {
   "cell_type": "code",
   "execution_count": 30,
   "metadata": {
    "execution": {
     "iopub.execute_input": "2021-06-04T14:12:32.597481Z",
     "iopub.status.busy": "2021-06-04T14:12:32.597481Z",
     "iopub.status.idle": "2021-06-04T14:18:32.186132Z",
     "shell.execute_reply": "2021-06-04T14:18:32.185129Z",
     "shell.execute_reply.started": "2021-06-04T14:12:32.597481Z"
    },
    "scrolled": true,
    "tags": []
   },
   "outputs": [
    {
     "name": "stdout",
     "output_type": "stream",
     "text": [
      "processing Bina ...\n",
      "18 images Loaded\n",
      "Augmenting 35 batches of Bina ...\n",
      "35 batches of augmentations done in 48.47s\n",
      "saving batch thumbnails...\n",
      "savefig done, 35 figures in 41.86s\n",
      "Bina processed\n",
      "\n",
      "processing Buyung ...\n",
      "18 images Loaded\n",
      "Augmenting 35 batches of Buyung ...\n",
      "35 batches of augmentations done in 46.08s\n",
      "saving batch thumbnails...\n",
      "savefig done, 35 figures in 42.79s\n",
      "Buyung processed\n",
      "\n",
      "processing Kresna ...\n",
      "18 images Loaded\n",
      "Augmenting 35 batches of Kresna ...\n",
      "35 batches of augmentations done in 45.81s\n",
      "saving batch thumbnails...\n",
      "savefig done, 35 figures in 42.05s\n",
      "Kresna processed\n",
      "\n",
      "processing Mhartian ...\n",
      "18 images Loaded\n",
      "Augmenting 35 batches of Mhartian ...\n",
      "35 batches of augmentations done in 46.92s\n",
      "saving batch thumbnails...\n",
      "savefig done, 35 figures in 43.91s\n",
      "Mhartian processed\n",
      "\n"
     ]
    }
   ],
   "source": [
    "# for name in names[4:8]:\n",
    "#     batches_aug_pool_dict[name] = main(name)"
   ]
  },
  {
   "cell_type": "code",
   "execution_count": 31,
   "metadata": {
    "execution": {
     "iopub.execute_input": "2021-06-04T14:24:01.102374Z",
     "iopub.status.busy": "2021-06-04T14:24:01.101374Z",
     "iopub.status.idle": "2021-06-04T14:30:50.219705Z",
     "shell.execute_reply": "2021-06-04T14:30:50.199705Z",
     "shell.execute_reply.started": "2021-06-04T14:24:01.102374Z"
    }
   },
   "outputs": [
    {
     "name": "stdout",
     "output_type": "stream",
     "text": [
      "Stored 'batches_aug_pool_dict' (dict)\n"
     ]
    }
   ],
   "source": [
    "# %store batches_aug_pool_dict"
   ]
  },
  {
   "cell_type": "code",
   "execution_count": 32,
   "metadata": {
    "execution": {
     "iopub.execute_input": "2021-06-04T14:30:50.261713Z",
     "iopub.status.busy": "2021-06-04T14:30:50.244710Z",
     "iopub.status.idle": "2021-06-04T14:38:44.941215Z",
     "shell.execute_reply": "2021-06-04T14:38:44.941215Z",
     "shell.execute_reply.started": "2021-06-04T14:30:50.261713Z"
    },
    "scrolled": true,
    "tags": []
   },
   "outputs": [
    {
     "name": "stdout",
     "output_type": "stream",
     "text": [
      "processing Raihan A ...\n",
      "18 images Loaded\n",
      "Augmenting 35 batches of Raihan A ...\n",
      "35 batches of augmentations done in 138.52s\n",
      "saving batch thumbnails...\n",
      "savefig done, 35 figures in 63.99s\n",
      "Raihan A processed\n",
      "\n",
      "processing Syifa ...\n",
      "18 images Loaded\n",
      "Augmenting 35 batches of Syifa ...\n",
      "35 batches of augmentations done in 44.59s\n",
      "saving batch thumbnails...\n",
      "savefig done, 35 figures in 42.13s\n",
      "Syifa processed\n",
      "\n",
      "processing Taufik ...\n",
      "18 images Loaded\n",
      "Augmenting 35 batches of Taufik ...\n",
      "35 batches of augmentations done in 45.90s\n",
      "saving batch thumbnails...\n",
      "savefig done, 35 figures in 41.90s\n",
      "Taufik processed\n",
      "\n",
      "processing Yandi ...\n",
      "18 images Loaded\n",
      "Augmenting 35 batches of Yandi ...\n",
      "35 batches of augmentations done in 45.61s\n",
      "saving batch thumbnails...\n",
      "savefig done, 35 figures in 41.90s\n",
      "Yandi processed\n",
      "\n"
     ]
    }
   ],
   "source": [
    "# for name in names[8:]:\n",
    "#     batches_aug_pool_dict[name] = main(name)"
   ]
  },
  {
   "cell_type": "code",
   "execution_count": 33,
   "metadata": {
    "execution": {
     "iopub.execute_input": "2021-06-04T14:39:02.851316Z",
     "iopub.status.busy": "2021-06-04T14:39:02.850314Z",
     "iopub.status.idle": "2021-06-04T14:50:57.589949Z",
     "shell.execute_reply": "2021-06-04T14:50:57.585950Z",
     "shell.execute_reply.started": "2021-06-04T14:39:02.851316Z"
    },
    "tags": []
   },
   "outputs": [
    {
     "name": "stdout",
     "output_type": "stream",
     "text": [
      "Stored 'batches_aug_pool_dict' (dict)\n"
     ]
    }
   ],
   "source": [
    "# %store batches_aug_pool_dict"
   ]
  },
  {
   "cell_type": "code",
   "execution_count": 57,
   "metadata": {
    "execution": {
     "iopub.execute_input": "2021-06-03T18:04:08.604313Z",
     "iopub.status.busy": "2021-06-03T18:04:08.603300Z",
     "iopub.status.idle": "2021-06-03T18:09:33.461723Z",
     "shell.execute_reply": "2021-06-03T18:09:33.459735Z",
     "shell.execute_reply.started": "2021-06-03T18:04:08.604313Z"
    },
    "scrolled": true,
    "tags": []
   },
   "outputs": [
    {
     "name": "stdout",
     "output_type": "stream",
     "text": [
      "126 Images Loaded\n",
      "4 batch of augmentations done in 62.33s\n",
      "figure 1/4 saved\n",
      "figure 2/4 saved\n",
      "figure 3/4 saved\n",
      "figure 4/4 saved\n",
      "savefig done, 4 figures in 39.09s\n",
      "Stored 'Mhartian' (list)\n",
      "126 Images Loaded\n",
      "4 batch of augmentations done in 55.86s\n",
      "figure 1/4 saved\n",
      "figure 2/4 saved\n",
      "figure 3/4 saved\n",
      "figure 4/4 saved\n",
      "savefig done, 4 figures in 33.62s\n",
      "Stored 'Raihan_A' (list)\n",
      "126 Images Loaded\n",
      "4 batch of augmentations done in 55.59s\n",
      "figure 1/4 saved\n",
      "figure 2/4 saved\n",
      "figure 3/4 saved\n",
      "figure 4/4 saved\n",
      "savefig done, 4 figures in 38.39s\n",
      "Stored 'Syifa' (list)\n"
     ]
    }
   ],
   "source": [
    "# Andhika = main(names[0])\n",
    "# %store Andhika\n",
    "# del Andhika\n",
    "\n",
    "# Ardiyan = main(names[1])\n",
    "# %store Ardiyan\n",
    "# del Ardiyan\n",
    "\n",
    "# Artik = main(names[2])\n",
    "# %store Artik\n",
    "# del Artik\n",
    "\n",
    "# Ballya = main(names[3])\n",
    "# %store Ballya\n",
    "# del Ballya\n",
    "\n",
    "# Bina = main(names[4])\n",
    "# %store Bina\n",
    "# del Bina\n",
    "\n",
    "# Buyung = main(names[5])\n",
    "# %store Buyung\n",
    "# del Buyung\n",
    "\n",
    "# Kresna = main(names[6])\n",
    "# %store Kresna\n",
    "# del Kresna\n",
    "\n",
    "# Mhartian = main(names[7])\n",
    "# %store Mhartian\n",
    "# del Mhartian\n",
    "\n",
    "# Raihan_A = main(names[8])\n",
    "# %store Raihan_A\n",
    "# del Raihan_A\n",
    "\n",
    "# Syifa = main(names[9])\n",
    "# %store Syifa\n",
    "# del Syifa\n"
   ]
  },
  {
   "cell_type": "code",
   "execution_count": null,
   "metadata": {},
   "outputs": [],
   "source": []
  },
  {
   "cell_type": "code",
   "execution_count": 43,
   "metadata": {
    "execution": {
     "iopub.execute_input": "2021-06-03T17:35:50.513736Z",
     "iopub.status.busy": "2021-06-03T17:35:50.512737Z",
     "iopub.status.idle": "2021-06-03T17:35:52.744966Z",
     "shell.execute_reply": "2021-06-03T17:35:52.743960Z",
     "shell.execute_reply.started": "2021-06-03T17:35:50.513736Z"
    },
    "tags": []
   },
   "outputs": [
    {
     "name": "stdout",
     "output_type": "stream",
     "text": [
      "126 Images Loaded\n"
     ]
    }
   ],
   "source": [
    "# images = getImages(\"Taufik\")\n",
    "\n",
    "# print('%d Images Loaded' % len(images))"
   ]
  },
  {
   "cell_type": "code",
   "execution_count": null,
   "metadata": {},
   "outputs": [],
   "source": []
  },
  {
   "cell_type": "code",
   "execution_count": 44,
   "metadata": {
    "execution": {
     "iopub.execute_input": "2021-06-03T17:36:32.496890Z",
     "iopub.status.busy": "2021-06-03T17:36:32.495891Z",
     "iopub.status.idle": "2021-06-03T17:36:32.506887Z",
     "shell.execute_reply": "2021-06-03T17:36:32.505889Z",
     "shell.execute_reply.started": "2021-06-03T17:36:32.496890Z"
    },
    "tags": []
   },
   "outputs": [],
   "source": [
    "# NB_BATCHES = 4\n",
    "# batches = [UnnormalizedBatch(images=images) for _ in range(NB_BATCHES)]"
   ]
  },
  {
   "cell_type": "code",
   "execution_count": null,
   "metadata": {
    "tags": []
   },
   "outputs": [],
   "source": [
    "# time_start = time.time()\n",
    "\n",
    "# batches_aug = list(seq_det.augment_batches(batches, background=True))  # background=True for multicore aug\n",
    "\n",
    "# time_end = time.time()\n",
    "    \n",
    "# print(\"Batch augmentation (background=True) done in %.2fs\" % (time_end - time_start,))"
   ]
  },
  {
   "cell_type": "code",
   "execution_count": 45,
   "metadata": {
    "execution": {
     "iopub.execute_input": "2021-06-03T17:36:45.656469Z",
     "iopub.status.busy": "2021-06-03T17:36:45.656469Z",
     "iopub.status.idle": "2021-06-03T17:37:42.361631Z",
     "shell.execute_reply": "2021-06-03T17:37:42.360641Z",
     "shell.execute_reply.started": "2021-06-03T17:36:45.656469Z"
    },
    "scrolled": true,
    "tags": []
   },
   "outputs": [
    {
     "name": "stdout",
     "output_type": "stream",
     "text": [
      "4 batch of augmentations done in 56.69s\n"
     ]
    }
   ],
   "source": [
    "# time_start = time.time()\n",
    "\n",
    "# with seq.pool(processes=-1, maxtasksperchild=35, seed=num_seed) as pool:\n",
    "#     batches_aug_pool = pool.map_batches(batches, chunksize=24)\n",
    "    \n",
    "# time_end = time.time()\n",
    "\n",
    "# print(\"%d batch of augmentations done in %.2fs\" % (NB_BATCHES, time_end - time_start,))"
   ]
  },
  {
   "cell_type": "code",
   "execution_count": null,
   "metadata": {},
   "outputs": [],
   "source": []
  },
  {
   "cell_type": "code",
   "execution_count": 46,
   "metadata": {
    "execution": {
     "iopub.execute_input": "2021-06-03T17:37:42.363633Z",
     "iopub.status.busy": "2021-06-03T17:37:42.362634Z",
     "iopub.status.idle": "2021-06-03T17:38:17.330770Z",
     "shell.execute_reply": "2021-06-03T17:38:17.329770Z",
     "shell.execute_reply.started": "2021-06-03T17:37:42.363633Z"
    },
    "scrolled": true,
    "tags": []
   },
   "outputs": [
    {
     "name": "stdout",
     "output_type": "stream",
     "text": [
      "figure 1/4 saved\n",
      "figure 2/4 saved\n",
      "figure 3/4 saved\n",
      "figure 4/4 saved\n",
      "savefig done, 4 figures in 34.96s\n"
     ]
    }
   ],
   "source": [
    "# batchesPoolToFigures(batches_aug_pool=batches_aug_pool, num_seed=num_seed, name=\"Taufik\")"
   ]
  },
  {
   "cell_type": "code",
   "execution_count": 47,
   "metadata": {
    "execution": {
     "iopub.execute_input": "2021-06-03T17:38:17.333770Z",
     "iopub.status.busy": "2021-06-03T17:38:17.332768Z",
     "iopub.status.idle": "2021-06-03T17:38:28.149867Z",
     "shell.execute_reply": "2021-06-03T17:38:28.148866Z",
     "shell.execute_reply.started": "2021-06-03T17:38:17.333770Z"
    },
    "tags": []
   },
   "outputs": [
    {
     "name": "stdout",
     "output_type": "stream",
     "text": [
      "Stored 'batches_aug_pool' (list)\n"
     ]
    }
   ],
   "source": [
    "# save\n",
    "# %store batches_aug_pool"
   ]
  },
  {
   "cell_type": "code",
   "execution_count": null,
   "metadata": {
    "scrolled": true,
    "tags": []
   },
   "outputs": [],
   "source": [
    "# _ = []\n",
    "\n",
    "# # 1 -- show only\n",
    "# time_start = time.time()\n",
    "\n",
    "# _.append(show_images(num_col=14, images_aug=batches_aug_pool[1].images_aug, showfig=True))\n",
    "\n",
    "# time_end = time.time()\n",
    "# print(\"#1 overall process done in %.2fs\" % (time_end - time_start,))\n",
    "\n",
    "\n",
    "\n",
    "# i = 0\n",
    "# for sliced in _:\n",
    "#     print(\"%01d: %s, %s\" % (i, type(sliced), sliced))\n",
    "#     i += 1"
   ]
  },
  {
   "cell_type": "code",
   "execution_count": null,
   "metadata": {},
   "outputs": [],
   "source": []
  },
  {
   "cell_type": "code",
   "execution_count": 25,
   "metadata": {
    "execution": {
     "iopub.execute_input": "2021-06-04T15:16:38.583043Z",
     "iopub.status.busy": "2021-06-04T15:16:38.582045Z",
     "iopub.status.idle": "2021-06-04T15:16:38.596046Z",
     "shell.execute_reply": "2021-06-04T15:16:38.595044Z",
     "shell.execute_reply.started": "2021-06-04T15:16:38.583043Z"
    },
    "tags": []
   },
   "outputs": [
    {
     "name": "stdout",
     "output_type": "stream",
     "text": [
      "directory successfully created\n"
     ]
    }
   ],
   "source": [
    "SAVE_DIR = f\"{DATASET_DIR:s}/Augmented Images - Unmasked\"\n",
    "\n",
    "try:\n",
    "    os.mkdir(SAVE_DIR)\n",
    "    print(\"directory successfully created\")\n",
    "except FileExistsError:\n",
    "    print(\"directory already exist\")"
   ]
  },
  {
   "cell_type": "code",
   "execution_count": 33,
   "metadata": {
    "execution": {
     "iopub.execute_input": "2021-06-04T15:21:26.018841Z",
     "iopub.status.busy": "2021-06-04T15:21:26.018841Z",
     "iopub.status.idle": "2021-06-04T15:21:26.029840Z",
     "shell.execute_reply": "2021-06-04T15:21:26.028840Z",
     "shell.execute_reply.started": "2021-06-04T15:21:26.018841Z"
    },
    "tags": []
   },
   "outputs": [],
   "source": [
    "def batchesPoolToImages(batches_aug_pool, num_seed, name):\n",
    "    print(f\"Saving {name:s} batches...\")\n",
    "    \n",
    "    SAVE_PATH = f\"{SAVE_DIR:s}/{name:s}\"\n",
    "    try:\n",
    "        os.mkdir(SAVE_PATH)\n",
    "    except FileExistsError:\n",
    "        pass\n",
    "    \n",
    "    time_start = time.time()\n",
    "    \n",
    "    # Iterate each batch and save contained images in images_aug\n",
    "    for n, batch_aug in enumerate(batches_aug_pool):\n",
    "        if n+1 == 35:\n",
    "            continue\n",
    "        for i, image_aug in enumerate(batch_aug.images_aug):\n",
    "            filename = f\"{name:s}_{num_seed:d}_{n+1:d}_{i+1:003d}.jpg\"\n",
    "            imageio.imwrite(f\"{SAVE_PATH:s}/{filename:s}\", image_aug)\n",
    "    \n",
    "        # print(f\"batch {n+1:d}/{len(batches_aug_pool):d} done\")\n",
    "        \n",
    "    time_end = time.time()\n",
    "    print(\"Saving %s batches done in %.2fs\" % (name, time_end - time_start,))"
   ]
  },
  {
   "cell_type": "code",
   "execution_count": 12,
   "metadata": {
    "execution": {
     "iopub.execute_input": "2021-06-04T15:03:08.669262Z",
     "iopub.status.busy": "2021-06-04T15:03:08.668261Z",
     "iopub.status.idle": "2021-06-04T15:07:32.142225Z",
     "shell.execute_reply": "2021-06-04T15:07:32.132226Z",
     "shell.execute_reply.started": "2021-06-04T15:03:08.669262Z"
    }
   },
   "outputs": [],
   "source": [
    "# %store -r batches_aug_pool_dict"
   ]
  },
  {
   "cell_type": "code",
   "execution_count": 35,
   "metadata": {
    "execution": {
     "iopub.execute_input": "2021-06-04T15:31:24.744224Z",
     "iopub.status.busy": "2021-06-04T15:31:24.744224Z",
     "iopub.status.idle": "2021-06-04T15:32:39.382731Z",
     "shell.execute_reply": "2021-06-04T15:32:39.382731Z",
     "shell.execute_reply.started": "2021-06-04T15:31:24.744224Z"
    },
    "scrolled": true,
    "tags": []
   },
   "outputs": [
    {
     "name": "stdout",
     "output_type": "stream",
     "text": [
      "Saving Andhika batches...\n",
      "Saving Andhika batches done in 6.25s\n",
      "Saving Ardiyan batches...\n",
      "Saving Ardiyan batches done in 6.28s\n",
      "Saving Artik batches...\n",
      "Saving Artik batches done in 6.03s\n",
      "Saving Ballya batches...\n",
      "Saving Ballya batches done in 6.45s\n",
      "Saving Bina batches...\n",
      "Saving Bina batches done in 6.07s\n",
      "Saving Buyung batches...\n",
      "Saving Buyung batches done in 6.01s\n",
      "Saving Kresna batches...\n",
      "Saving Kresna batches done in 6.08s\n",
      "Saving Mhartian batches...\n",
      "Saving Mhartian batches done in 6.31s\n",
      "Saving Raihan A batches...\n",
      "Saving Raihan A batches done in 6.48s\n",
      "Saving Syifa batches...\n",
      "Saving Syifa batches done in 6.10s\n",
      "Saving Taufik batches...\n",
      "Saving Taufik batches done in 6.39s\n",
      "Saving Yandi batches...\n",
      "Saving Yandi batches done in 6.19s\n"
     ]
    }
   ],
   "source": [
    "# for name in names:\n",
    "#     batchesPoolToImages(batches_aug_pool_dict[name][1], num_seed, name)"
   ]
  },
  {
   "cell_type": "code",
   "execution_count": null,
   "metadata": {},
   "outputs": [],
   "source": []
  },
  {
   "cell_type": "code",
   "execution_count": 93,
   "metadata": {
    "execution": {
     "iopub.execute_input": "2021-06-04T13:04:40.059883Z",
     "iopub.status.busy": "2021-06-04T13:04:40.059883Z",
     "iopub.status.idle": "2021-06-04T13:05:02.185889Z",
     "shell.execute_reply": "2021-06-04T13:05:02.184883Z",
     "shell.execute_reply.started": "2021-06-04T13:04:40.059883Z"
    },
    "scrolled": true,
    "tags": []
   },
   "outputs": [
    {
     "name": "stdout",
     "output_type": "stream",
     "text": [
      "Saving Andhika batches\n",
      "batch 1/4 done\n",
      "batch 2/4 done\n",
      "batch 3/4 done\n",
      "batch 4/4 done\n",
      "Saving Andhika batches done in 5.07s\n",
      "Saving Ardiyan batches\n",
      "batch 1/4 done\n",
      "batch 2/4 done\n",
      "batch 3/4 done\n",
      "batch 4/4 done\n",
      "Saving Ardiyan batches done in 5.94s\n",
      "Saving Artik batches\n",
      "batch 1/4 done\n",
      "batch 2/4 done\n",
      "batch 3/4 done\n",
      "batch 4/4 done\n",
      "Saving Artik batches done in 5.28s\n",
      "Saving Ballya batches\n",
      "batch 1/4 done\n",
      "batch 2/4 done\n",
      "batch 3/4 done\n",
      "batch 4/4 done\n",
      "Saving Ballya batches done in 5.83s\n"
     ]
    }
   ],
   "source": [
    "# # load\n",
    "# %store -r Andhika_101_20210604_0048 Ardiyan_101_20210604_0050 Artik_101_20210604_0052 Ballya_101_20210604_0054\n",
    "\n",
    "# batchesPoolToImages(Andhika_101_20210604_0048, num_seed, \"Andhika\")\n",
    "# batchesPoolToImages(Ardiyan_101_20210604_0050, num_seed, \"Ardiyan\")\n",
    "# batchesPoolToImages(Artik_101_20210604_0052, num_seed, \"Artik\")\n",
    "# batchesPoolToImages(Ballya_101_20210604_0054, num_seed, \"Ballya\")\n",
    "\n",
    "# del Andhika_101_20210604_0048, Ardiyan_101_20210604_0050, Artik_101_20210604_0052, Ballya_101_20210604_0054"
   ]
  },
  {
   "cell_type": "code",
   "execution_count": 96,
   "metadata": {
    "execution": {
     "iopub.execute_input": "2021-06-04T13:09:10.257185Z",
     "iopub.status.busy": "2021-06-04T13:09:10.257185Z",
     "iopub.status.idle": "2021-06-04T13:09:33.460783Z",
     "shell.execute_reply": "2021-06-04T13:09:33.459781Z",
     "shell.execute_reply.started": "2021-06-04T13:09:10.257185Z"
    },
    "scrolled": true,
    "tags": []
   },
   "outputs": [
    {
     "name": "stdout",
     "output_type": "stream",
     "text": [
      "Saving Bine batches\n",
      "batch 1/4 done\n",
      "batch 2/4 done\n",
      "batch 3/4 done\n",
      "batch 4/4 done\n",
      "Saving Bine batches done in 6.14s\n",
      "Saving Buyung batches\n",
      "batch 1/4 done\n",
      "batch 2/4 done\n",
      "batch 3/4 done\n",
      "batch 4/4 done\n",
      "Saving Buyung batches done in 5.63s\n",
      "Saving Kresna batches\n",
      "batch 1/4 done\n",
      "batch 2/4 done\n",
      "batch 3/4 done\n",
      "batch 4/4 done\n",
      "Saving Kresna batches done in 5.19s\n",
      "Saving Mhartian batches\n",
      "batch 1/4 done\n",
      "batch 2/4 done\n",
      "batch 3/4 done\n",
      "batch 4/4 done\n",
      "Saving Mhartian batches done in 6.21s\n"
     ]
    }
   ],
   "source": [
    "# # load\n",
    "# %store -r Bina_101_20210604_0055 Buyung_101_20210604_0057 Kresna_101_20210604_0059 Mhartian_101_20210604_0105\n",
    "\n",
    "# batchesPoolToImages(Bina_101_20210604_0055, num_seed, \"Bine\")\n",
    "# batchesPoolToImages(Buyung_101_20210604_0057, num_seed, \"Buyung\")\n",
    "# batchesPoolToImages(Kresna_101_20210604_0059, num_seed, \"Kresna\")\n",
    "# batchesPoolToImages(Mhartian_101_20210604_0105, num_seed, \"Mhartian\")\n",
    "\n",
    "# del Bina_101_20210604_0055, Buyung_101_20210604_0057, Kresna_101_20210604_0059, Mhartian_101_20210604_0105"
   ]
  },
  {
   "cell_type": "code",
   "execution_count": 97,
   "metadata": {
    "execution": {
     "iopub.execute_input": "2021-06-04T13:09:33.462787Z",
     "iopub.status.busy": "2021-06-04T13:09:33.461782Z",
     "iopub.status.idle": "2021-06-04T13:11:05.021773Z",
     "shell.execute_reply": "2021-06-04T13:11:05.020774Z",
     "shell.execute_reply.started": "2021-06-04T13:09:33.462787Z"
    },
    "scrolled": true,
    "tags": []
   },
   "outputs": [
    {
     "name": "stdout",
     "output_type": "stream",
     "text": [
      "Saving RaihanA batches\n",
      "batch 1/4 done\n",
      "batch 2/4 done\n",
      "batch 3/4 done\n",
      "batch 4/4 done\n",
      "Saving RaihanA batches done in 15.37s\n",
      "Saving Syifa batches\n",
      "batch 1/4 done\n",
      "batch 2/4 done\n",
      "batch 3/4 done\n",
      "batch 4/4 done\n",
      "Saving Syifa batches done in 5.61s\n",
      "Saving Taufik batches\n",
      "batch 1/4 done\n",
      "batch 2/4 done\n",
      "batch 3/4 done\n",
      "batch 4/4 done\n",
      "Saving Taufik batches done in 5.92s\n",
      "Saving Yandi batches\n",
      "batch 1/4 done\n",
      "batch 2/4 done\n",
      "batch 3/4 done\n",
      "batch 4/4 done\n",
      "Saving Yandi batches done in 5.88s\n"
     ]
    }
   ],
   "source": [
    "# # load\n",
    "# %store -r Raihan_A_101_20210604_0107 Syifa_101_20210604_0108 Taufik_101_20210604_0037 Yandi_101_20210604_0015\n",
    "\n",
    "# batchesPoolToImages(Raihan_A_101_20210604_0107, num_seed, \"RaihanA\")\n",
    "# batchesPoolToImages(Syifa_101_20210604_0108, num_seed, \"Syifa\")\n",
    "# batchesPoolToImages(Taufik_101_20210604_0037, num_seed, \"Taufik\")\n",
    "# batchesPoolToImages(Yandi_101_20210604_0015, num_seed, \"Yandi\")\n",
    "\n",
    "# del Raihan_A_101_20210604_0107, Syifa_101_20210604_0108, Taufik_101_20210604_0037, Yandi_101_20210604_0015"
   ]
  },
  {
   "cell_type": "code",
   "execution_count": null,
   "metadata": {},
   "outputs": [],
   "source": []
  }
 ],
 "metadata": {
  "kernelspec": {
   "display_name": "Python 3",
   "language": "python",
   "name": "python3"
  },
  "language_info": {
   "codemirror_mode": {
    "name": "ipython",
    "version": 3
   },
   "file_extension": ".py",
   "mimetype": "text/x-python",
   "name": "python",
   "nbconvert_exporter": "python",
   "pygments_lexer": "ipython3",
   "version": "3.8.3"
  }
 },
 "nbformat": 4,
 "nbformat_minor": 4
}
