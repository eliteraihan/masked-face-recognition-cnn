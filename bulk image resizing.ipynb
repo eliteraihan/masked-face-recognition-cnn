{
 "cells": [
  {
   "cell_type": "code",
   "execution_count": 1,
   "id": "c32378a0-30ef-4ea3-921c-ff5517569697",
   "metadata": {
    "execution": {
     "iopub.execute_input": "2021-06-01T13:47:54.843021Z",
     "iopub.status.busy": "2021-06-01T13:47:54.843021Z",
     "iopub.status.idle": "2021-06-01T13:47:54.927027Z",
     "shell.execute_reply": "2021-06-01T13:47:54.926024Z",
     "shell.execute_reply.started": "2021-06-01T13:47:54.843021Z"
    },
    "tags": []
   },
   "outputs": [],
   "source": [
    "import PIL\n",
    "import os\n",
    "import os.path\n",
    "import time\n",
    "from PIL import Image\n",
    "from pprint import pprint"
   ]
  },
  {
   "cell_type": "code",
   "execution_count": null,
   "id": "0d189f2d-6bb4-42a7-a371-2e9c7e28efd1",
   "metadata": {},
   "outputs": [],
   "source": []
  },
  {
   "cell_type": "code",
   "execution_count": 3,
   "id": "46f3107a-2ac7-4783-a4a7-4fea50b3fb6a",
   "metadata": {
    "execution": {
     "iopub.execute_input": "2021-06-01T13:50:21.154509Z",
     "iopub.status.busy": "2021-06-01T13:50:21.153513Z",
     "iopub.status.idle": "2021-06-01T13:50:21.170512Z",
     "shell.execute_reply": "2021-06-01T13:50:21.169513Z",
     "shell.execute_reply.started": "2021-06-01T13:50:21.154509Z"
    },
    "tags": []
   },
   "outputs": [
    {
     "name": "stdout",
     "output_type": "stream",
     "text": [
      "current work dir:\n",
      "D:\\MaskTheFace\\datasets\\_temp\n",
      "\n",
      "listdir WORK_DIR:\n",
      "['Raihan A', 'Suzu', 'train set_crop (JPG only)']\n"
     ]
    }
   ],
   "source": [
    "DATASET_DIR = 'D:/MaskTheFace/datasets/_temp/'\n",
    "\n",
    "os.chdir(DATASET_DIR)\n",
    "\n",
    "print('current work dir:')\n",
    "print(os.getcwd())\n",
    "print()\n",
    "print('listdir WORK_DIR:')\n",
    "pprint(os.listdir('./'))"
   ]
  },
  {
   "cell_type": "code",
   "execution_count": null,
   "id": "daf8f833-e83e-4e79-b044-5ea92fad561f",
   "metadata": {},
   "outputs": [],
   "source": [
    "# folderOfInterest = [\n",
    "#     'Augmented Images - Masked',\n",
    "#     'Augmented Images - Unmasked',\n",
    "#     'main, train set - crop masked resized',\n",
    "#     'main, train set - crop resized'\n",
    "# ]\n",
    "\n",
    "# for foi in folderOfInterest:\n",
    "#     print(foi)\n",
    "#     DATASET_PATH = f'{BASE_DIR:s}/{foi:s}'\n",
    "#     names = os.listdir(DATASET_PATH)\n",
    "#     print(f'{len(names):d} names')\n",
    "\n",
    "#     length_dict = {}\n",
    "#     for name in names:\n",
    "#         samples = f'{DATASET_PATH:s}/{name:s}'\n",
    "#         length_dict[name] = len(os.listdir(samples))\n",
    "\n",
    "#     display(length_dict)\n",
    "#     print(f\"max: {max(length_dict.values())}\")\n",
    "#     print(f\"min: {min(length_dict.values())}\")\n",
    "#     print()\n",
    "#     print()"
   ]
  },
  {
   "cell_type": "code",
   "execution_count": 34,
   "id": "784b1ecc-048e-4a38-a6af-60f1313ec816",
   "metadata": {
    "execution": {
     "iopub.execute_input": "2021-06-01T13:56:55.500462Z",
     "iopub.status.busy": "2021-06-01T13:56:55.500462Z",
     "iopub.status.idle": "2021-06-01T13:56:55.518457Z",
     "shell.execute_reply": "2021-06-01T13:56:55.517459Z",
     "shell.execute_reply.started": "2021-06-01T13:56:55.500462Z"
    },
    "tags": []
   },
   "outputs": [],
   "source": [
    "DATA_DIR = os.path.join(DATASET_DIR, 'train set_crop (JPG only)')\n",
    "SAVE_DIR = os.path.join(DATASET_DIR, 'train set crop resized')\n",
    "\n",
    "DATA_FOLDERS = [\n",
    "    'Andhika', 'Ardiyan', 'Artik', 'Ballya', 'Bina', 'Buyung',\n",
    "    'Kresna', 'Mhartian', 'Raihan A', 'Syifa', 'Taufik', 'Yandi']"
   ]
  },
  {
   "cell_type": "code",
   "execution_count": 35,
   "id": "b1eb21f8-10e0-4ed5-9312-668834d6afe2",
   "metadata": {
    "execution": {
     "iopub.execute_input": "2021-06-01T13:56:56.267515Z",
     "iopub.status.busy": "2021-06-01T13:56:56.267515Z",
     "iopub.status.idle": "2021-06-01T13:57:33.506984Z",
     "shell.execute_reply": "2021-06-01T13:57:33.505982Z",
     "shell.execute_reply.started": "2021-06-01T13:56:56.267515Z"
    },
    "tags": []
   },
   "outputs": [
    {
     "name": "stdout",
     "output_type": "stream",
     "text": [
      "[Andhika] resized\n",
      "[Ardiyan] resized\n",
      "[Artik] resized\n",
      "[Ballya] resized\n",
      "[Bina] resized\n",
      "[Buyung] resized\n",
      "[Kresna] resized\n",
      "[Mhartian] resized\n",
      "[Raihan A] resized\n",
      "[Syifa] resized\n",
      "[Taufik] resized\n",
      "[Yandi] resized\n",
      "Resizing done in 37.22s\n"
     ]
    }
   ],
   "source": [
    "# time_start = time.time()\n",
    "\n",
    "# for folder in DATA_FOLDERS:\n",
    "#     try:\n",
    "#         os.mkdir(SAVE_DIR + \"/\" + folder)\n",
    "#     except FileExistsError:\n",
    "#         pass\n",
    "    \n",
    "#     DATA_PATH = os.path.join(DATA_DIR, folder)\n",
    "#     SAVE_PATH = os.path.join(SAVE_DIR, folder)\n",
    "#     images = [file for file in os.listdir(DATA_PATH) if file.endswith(('jpeg', 'png', 'jpg'))]\n",
    "    \n",
    "#     for image in images:\n",
    "#         img = Image.open(DATA_PATH + \"/\" + image)\n",
    "#         img.thumbnail(size=(640, 640), resample=PIL.Image.BICUBIC)\n",
    "#         img.save(SAVE_PATH + \"/\" + image, optimize=True, quality=75)\n",
    "        \n",
    "#     print(\"[%s] resized\" % (folder,))\n",
    "    \n",
    "# time_end = time.time()\n",
    "\n",
    "# print(\"Resizing done in %.2fs\" % (time_end - time_start,))"
   ]
  },
  {
   "cell_type": "code",
   "execution_count": null,
   "id": "387db1e2-1317-4405-95a6-a54c3035c18f",
   "metadata": {},
   "outputs": [],
   "source": []
  }
 ],
 "metadata": {
  "kernelspec": {
   "display_name": "Python 3",
   "language": "python",
   "name": "python3"
  },
  "language_info": {
   "codemirror_mode": {
    "name": "ipython",
    "version": 3
   },
   "file_extension": ".py",
   "mimetype": "text/x-python",
   "name": "python",
   "nbconvert_exporter": "python",
   "pygments_lexer": "ipython3",
   "version": "3.8.3"
  }
 },
 "nbformat": 4,
 "nbformat_minor": 5
}